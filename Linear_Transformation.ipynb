{
  "nbformat": 4,
  "nbformat_minor": 0,
  "metadata": {
    "colab": {
      "name": "Linear Transformation.ipynb",
      "provenance": [],
      "authorship_tag": "ABX9TyPDoH8hxYrHU7pSAcFY+KWH",
      "include_colab_link": true
    },
    "kernelspec": {
      "name": "python3",
      "display_name": "Python 3"
    },
    "language_info": {
      "name": "python"
    }
  },
  "cells": [
    {
      "cell_type": "markdown",
      "metadata": {
        "id": "view-in-github",
        "colab_type": "text"
      },
      "source": [
        "<a href=\"https://colab.research.google.com/github/CholoRiego/Linear-Algebra-58019/blob/main/Linear_Transformation.ipynb\" target=\"_parent\"><img src=\"https://colab.research.google.com/assets/colab-badge.svg\" alt=\"Open In Colab\"/></a>"
      ]
    },
    {
      "cell_type": "markdown",
      "metadata": {
        "id": "NogHt3YDDUBs"
      },
      "source": [
        "#Using Python Codes, to find the inverse of a matrix "
      ]
    },
    {
      "cell_type": "markdown",
      "metadata": {
        "id": "YSB7PKUGJ2ZT"
      },
      "source": [
        "##Inverse of A"
      ]
    },
    {
      "cell_type": "code",
      "metadata": {
        "colab": {
          "base_uri": "https://localhost:8080/"
        },
        "id": "9XZ43LGHBGln",
        "outputId": "fba797f0-ab4b-4ecd-adc0-b037e255810e"
      },
      "source": [
        "import numpy as np\n",
        "A = np.array([[4,3],[-5,9]])\n",
        "invA = np.linalg.inv(A)\n",
        "print(invA)"
      ],
      "execution_count": 4,
      "outputs": [
        {
          "output_type": "stream",
          "name": "stdout",
          "text": [
            "[[ 0.17647059 -0.05882353]\n",
            " [ 0.09803922  0.07843137]]\n"
          ]
        }
      ]
    },
    {
      "cell_type": "markdown",
      "metadata": {
        "id": "dKGTVHm5J8GK"
      },
      "source": [
        "##Array of Constants (B)"
      ]
    },
    {
      "cell_type": "code",
      "metadata": {
        "colab": {
          "base_uri": "https://localhost:8080/"
        },
        "id": "0_T9WSqeFj7T",
        "outputId": "460d53da-33c1-431a-9730-0ae0c4d1c722"
      },
      "source": [
        "B = np.array([[20],[26]])\n",
        "print(B)"
      ],
      "execution_count": 5,
      "outputs": [
        {
          "output_type": "stream",
          "name": "stdout",
          "text": [
            "[[20]\n",
            " [26]]\n"
          ]
        }
      ]
    },
    {
      "cell_type": "markdown",
      "metadata": {
        "id": "5-jbrhHqKDjT"
      },
      "source": [
        "##Dot product of inverse of A and array of constants B"
      ]
    },
    {
      "cell_type": "markdown",
      "metadata": {
        "id": "i0ONzoCfKLWS"
      },
      "source": [
        "###Usage of linalg method"
      ]
    },
    {
      "cell_type": "code",
      "metadata": {
        "colab": {
          "base_uri": "https://localhost:8080/"
        },
        "id": "U_dN461eF_r7",
        "outputId": "f7e7f29f-8a88-45a9-ec06-7ef195444c95"
      },
      "source": [
        "X = np.linalg.inv(A).dot(B)\n",
        "print(X)\n"
      ],
      "execution_count": 6,
      "outputs": [
        {
          "output_type": "stream",
          "name": "stdout",
          "text": [
            "[[2.]\n",
            " [4.]]\n"
          ]
        }
      ]
    },
    {
      "cell_type": "markdown",
      "metadata": {
        "id": "OJ3l7xb9KRWd"
      },
      "source": [
        "###Without linalg method"
      ]
    },
    {
      "cell_type": "code",
      "metadata": {
        "colab": {
          "base_uri": "https://localhost:8080/"
        },
        "id": "tozrU5EwG0zq",
        "outputId": "e52ed8f6-f07d-472d-e010-9325878bc239"
      },
      "source": [
        "x = np.dot(invA,B)\n",
        "print(x)"
      ],
      "execution_count": 8,
      "outputs": [
        {
          "output_type": "stream",
          "name": "stdout",
          "text": [
            "[[2.]\n",
            " [4.]]\n"
          ]
        }
      ]
    },
    {
      "cell_type": "markdown",
      "metadata": {
        "id": "J3urEKK7Jtkc"
      },
      "source": [
        "#You Can Try! (Trial Exercise)"
      ]
    },
    {
      "cell_type": "code",
      "metadata": {
        "colab": {
          "base_uri": "https://localhost:8080/"
        },
        "id": "5q1LjU-DHsrb",
        "outputId": "add605ac-b2ec-434b-c20d-58315d690992"
      },
      "source": [
        "a = np.array([[4,3,2],[-2,2,3],[3,-5,2]])\n",
        "b = np.array([[25],[-10],[-4]])\n",
        "X2 = np.linalg.inv(a).dot(b)\n",
        "print(X2)"
      ],
      "execution_count": 11,
      "outputs": [
        {
          "output_type": "stream",
          "name": "stdout",
          "text": [
            "[[ 5.]\n",
            " [ 3.]\n",
            " [-2.]]\n"
          ]
        }
      ]
    }
  ]
}