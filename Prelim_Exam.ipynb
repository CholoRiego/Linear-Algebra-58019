{
  "nbformat": 4,
  "nbformat_minor": 0,
  "metadata": {
    "colab": {
      "name": "Prelim Exam.ipynb",
      "provenance": [],
      "authorship_tag": "ABX9TyOZut2yFXcchVMPRNiHzNLg",
      "include_colab_link": true
    },
    "kernelspec": {
      "name": "python3",
      "display_name": "Python 3"
    },
    "language_info": {
      "name": "python"
    }
  },
  "cells": [
    {
      "cell_type": "markdown",
      "metadata": {
        "id": "view-in-github",
        "colab_type": "text"
      },
      "source": [
        "<a href=\"https://colab.research.google.com/github/CholoRiego/Linear-Algebra-58019/blob/main/Prelim_Exam.ipynb\" target=\"_parent\"><img src=\"https://colab.research.google.com/assets/colab-badge.svg\" alt=\"Open In Colab\"/></a>"
      ]
    },
    {
      "cell_type": "markdown",
      "metadata": {
        "id": "mIwCZ8oChod3"
      },
      "source": [
        "#PRELIM EXAM"
      ]
    },
    {
      "cell_type": "markdown",
      "metadata": {
        "id": "8elqwXIIiCi1"
      },
      "source": [
        "##Question 1.Create a 4 x 4 matrix whose diagonal elements are all one (1's). Name it as matrix \"C\"."
      ]
    },
    {
      "cell_type": "code",
      "metadata": {
        "colab": {
          "base_uri": "https://localhost:8080/"
        },
        "id": "me4QVUlKiFMv",
        "outputId": "bc725523-bdb3-4688-c858-27e62eb956bd"
      },
      "source": [
        "import numpy as np\n",
        "C = np.eye(4)\n",
        "print(\"Matrix C\\n\\n\", C)"
      ],
      "execution_count": 13,
      "outputs": [
        {
          "output_type": "stream",
          "name": "stdout",
          "text": [
            "Matrix C\n",
            "\n",
            " [[1. 0. 0. 0.]\n",
            " [0. 1. 0. 0.]\n",
            " [0. 0. 1. 0.]\n",
            " [0. 0. 0. 1.]]\n"
          ]
        }
      ]
    },
    {
      "cell_type": "markdown",
      "metadata": {
        "id": "lAk2Deexi1ut"
      },
      "source": [
        "##Question 2.In relation to Question 1, show a solution that doubles all the values of each element."
      ]
    },
    {
      "cell_type": "code",
      "metadata": {
        "colab": {
          "base_uri": "https://localhost:8080/"
        },
        "id": "-ucAA3g3jD8W",
        "outputId": "5d3ecc2b-1c13-4ef4-fa5d-66c02c2f6237"
      },
      "source": [
        "import numpy as np\n",
        "DoubleC = 2*C\n",
        "print(\"Double value of matrix C\\n\\n\", DoubleC)"
      ],
      "execution_count": 14,
      "outputs": [
        {
          "output_type": "stream",
          "name": "stdout",
          "text": [
            "Double value of matrix C\n",
            "\n",
            " [[2. 0. 0. 0.]\n",
            " [0. 2. 0. 0.]\n",
            " [0. 0. 2. 0.]\n",
            " [0. 0. 0. 2.]]\n"
          ]
        }
      ]
    },
    {
      "cell_type": "markdown",
      "metadata": {
        "id": "G9CNZnZnj7FV"
      },
      "source": [
        "##Question 3. Find the cross-product of matrices, A = [2,7,4] and B = [3,9,8]."
      ]
    },
    {
      "cell_type": "code",
      "metadata": {
        "colab": {
          "base_uri": "https://localhost:8080/"
        },
        "id": "Z6XnIjB6kDCY",
        "outputId": "ec4906fc-9fed-4054-d522-b7f7b440f06f"
      },
      "source": [
        "import numpy as np\n",
        "A = np.array([2,7,4])\n",
        "B = np.array([3,9,8])\n",
        "\n",
        "CrossProd = np.cross(A,B)\n",
        "\n",
        "print(\"Cross Product of Matrix A and Matrix B\\n\\n\", CrossProd)"
      ],
      "execution_count": 5,
      "outputs": [
        {
          "output_type": "stream",
          "name": "stdout",
          "text": [
            "Cross Product of Matrix A and Matrix B\n",
            "\n",
            " [20 -4 -3]\n"
          ]
        }
      ]
    }
  ]
}