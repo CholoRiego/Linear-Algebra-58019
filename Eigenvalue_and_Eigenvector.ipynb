{
  "nbformat": 4,
  "nbformat_minor": 0,
  "metadata": {
    "colab": {
      "name": "Eigenvalue and Eigenvector.ipynb",
      "provenance": [],
      "authorship_tag": "ABX9TyMMr9njtThekORc4faPWuXh",
      "include_colab_link": true
    },
    "kernelspec": {
      "name": "python3",
      "display_name": "Python 3"
    },
    "language_info": {
      "name": "python"
    }
  },
  "cells": [
    {
      "cell_type": "markdown",
      "metadata": {
        "id": "view-in-github",
        "colab_type": "text"
      },
      "source": [
        "<a href=\"https://colab.research.google.com/github/CholoRiego/Linear-Algebra-58019/blob/main/Eigenvalue_and_Eigenvector.ipynb\" target=\"_parent\"><img src=\"https://colab.research.google.com/assets/colab-badge.svg\" alt=\"Open In Colab\"/></a>"
      ]
    },
    {
      "cell_type": "code",
      "execution_count": 14,
      "metadata": {
        "colab": {
          "base_uri": "https://localhost:8080/"
        },
        "id": "socifBvsl19E",
        "outputId": "ba4808d2-5b3d-4182-d6cc-cb444b1eb9a4"
      },
      "outputs": [
        {
          "output_type": "stream",
          "name": "stdout",
          "text": [
            "[[-12   3]\n",
            " [  4   1]] \n",
            "\n",
            "[[0]\n",
            " [0]] \n",
            "\n",
            "[[0.]\n",
            " [0.]] \n",
            "\n"
          ]
        }
      ],
      "source": [
        "import numpy as np\n",
        "\n",
        "from numpy.linalg import eig\n",
        "A = np.array([[-12,3],[4,1]])\n",
        "print(A,\"\\n\")\n",
        "\n",
        "B = np.array([[0],[0]])\n",
        "print(B,\"\\n\")\n",
        "\n",
        "invA = np.linalg.inv(A)\n",
        "\n",
        "X = np.dot(invA,B)\n",
        "print(X,\"\\n\")\n",
        "\n",
        "#X = solve(A,B)\n",
        "#print(X)"
      ]
    },
    {
      "cell_type": "markdown",
      "source": [
        "-----------------------------------"
      ],
      "metadata": {
        "id": "OWgf8LpNptRG"
      }
    },
    {
      "cell_type": "markdown",
      "source": [
        "###EXAMPLE 1"
      ],
      "metadata": {
        "id": "rlu1AB5WrvZ-"
      }
    },
    {
      "cell_type": "code",
      "source": [
        "C = np.array([[-6,3],[4,5]])\n",
        "print(C)\n",
        "\n",
        "w,v = np.linalg.eig(C)\n",
        "print(\"\\nThe eigenvalues is/are \\n\", w)\n",
        "print(\"\\nThe eigenvectors is are \\n\", v)\n",
        "\n",
        "#x = v.round()\n",
        "#print(x)"
      ],
      "metadata": {
        "colab": {
          "base_uri": "https://localhost:8080/"
        },
        "id": "nCAwdKGfpsbd",
        "outputId": "ae4e91a2-7891-42b2-e2ac-236554d95219"
      },
      "execution_count": 32,
      "outputs": [
        {
          "output_type": "stream",
          "name": "stdout",
          "text": [
            "[[-6  3]\n",
            " [ 4  5]]\n",
            "\n",
            "The eigenvalues is/are \n",
            " [-7.  6.]\n",
            "\n",
            "The eigenvectors is are \n",
            " [[-0.9486833  -0.24253563]\n",
            " [ 0.31622777 -0.9701425 ]]\n"
          ]
        }
      ]
    },
    {
      "cell_type": "markdown",
      "source": [
        "###EXAMPLE 2"
      ],
      "metadata": {
        "id": "ZzdwT1c_rywk"
      }
    },
    {
      "cell_type": "code",
      "source": [
        "A = np.array([[2,2,4],[1,3,5],[2,3,4]])\n",
        "print(A)\n",
        "\n",
        "s,t = np.linalg.eig(A)\n",
        "print(\"\\nThe eigenvalues is/are \\n\", s.round())\n",
        "print(\"\\nThe eigenvectors is are \\n\", t.round())\n",
        "\n",
        "\n",
        "D = np.dot(A,t.round())\n",
        "print(\"\\n\",D)"
      ],
      "metadata": {
        "colab": {
          "base_uri": "https://localhost:8080/"
        },
        "id": "p2wScquNr0cQ",
        "outputId": "30c5788c-ee21-410d-991c-836d16f9548d"
      },
      "execution_count": 31,
      "outputs": [
        {
          "output_type": "stream",
          "name": "stdout",
          "text": [
            "[[2 2 4]\n",
            " [1 3 5]\n",
            " [2 3 4]]\n",
            "\n",
            "The eigenvalues is/are \n",
            " [ 9.  1. -1.]\n",
            "\n",
            "The eigenvectors is are \n",
            " [[-1. -1. -0.]\n",
            " [-1.  1. -1.]\n",
            " [-1. -0.  1.]]\n",
            "\n",
            " [[-8.  0.  2.]\n",
            " [-9.  2.  2.]\n",
            " [-9.  1.  1.]]\n"
          ]
        }
      ]
    },
    {
      "cell_type": "code",
      "source": [
        "f = np.array([[-1],[-1],[-1]])\n",
        "print(f)\n",
        "\n",
        "g = np.dot(A,f)\n",
        "print(\"\\n\",g)"
      ],
      "metadata": {
        "colab": {
          "base_uri": "https://localhost:8080/"
        },
        "id": "jpsg2fUct9-G",
        "outputId": "79d7b499-6316-4de9-8e96-f9ee197e89b2"
      },
      "execution_count": 30,
      "outputs": [
        {
          "output_type": "stream",
          "name": "stdout",
          "text": [
            "[[-1]\n",
            " [-1]\n",
            " [-1]]\n",
            "\n",
            " [[-8]\n",
            " [-9]\n",
            " [-9]]\n"
          ]
        }
      ]
    }
  ]
}