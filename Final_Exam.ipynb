{
  "nbformat": 4,
  "nbformat_minor": 0,
  "metadata": {
    "colab": {
      "name": "Final Exam.ipynb",
      "provenance": [],
      "authorship_tag": "ABX9TyMD185tQF3p56A6SZxk0H8Q",
      "include_colab_link": true
    },
    "kernelspec": {
      "name": "python3",
      "display_name": "Python 3"
    },
    "language_info": {
      "name": "python"
    }
  },
  "cells": [
    {
      "cell_type": "markdown",
      "metadata": {
        "id": "view-in-github",
        "colab_type": "text"
      },
      "source": [
        "<a href=\"https://colab.research.google.com/github/CholoRiego/Linear-Algebra-58019/blob/main/Final_Exam.ipynb\" target=\"_parent\"><img src=\"https://colab.research.google.com/assets/colab-badge.svg\" alt=\"Open In Colab\"/></a>"
      ]
    },
    {
      "cell_type": "markdown",
      "source": [
        "#**FINAL EXAM**"
      ],
      "metadata": {
        "id": "zIp8P1hPXgZf"
      }
    },
    {
      "cell_type": "markdown",
      "source": [
        "##*Problem 1. Student A, Student B, and Student C have a total of Php 89 cash in their banks. Student A has 6 less than Student C. Student B has 3 times what Student C has. How much does each student have? (30 points)*"
      ],
      "metadata": {
        "id": "hk7HiJuuG8RO"
      }
    },
    {
      "cell_type": "code",
      "execution_count": 41,
      "metadata": {
        "colab": {
          "base_uri": "https://localhost:8080/"
        },
        "id": "uvTjnU4OGKwo",
        "outputId": "5f3d0406-c2f1-4ebc-95a6-b7b82b89f49b"
      },
      "outputs": [
        {
          "output_type": "stream",
          "name": "stdout",
          "text": [
            "[[13.]\n",
            " [57.]\n",
            " [19.]]\n"
          ]
        }
      ],
      "source": [
        "A = np.array([[1,1,1],[1,0,4],[0,0,5]])\n",
        "B = np.array([[89],[89],[95]])\n",
        "money = np.linalg.inv(A).dot(B)\n",
        "\n",
        "print(money)"
      ]
    },
    {
      "cell_type": "markdown",
      "source": [
        "##*Problem 2. Solve each system:*\n",
        "###*3x - y + z = 5*\n",
        "###*9x - 3y +3z = 15*\n",
        "###*-12x +4y -4z = -20*"
      ],
      "metadata": {
        "id": "6T9KoeUKG-tH"
      }
    },
    {
      "cell_type": "code",
      "source": [
        "import numpy as np\n",
        "X = np.array([[3,-1,1],[9,-3,3],[-12,4,-4]])\n",
        "Y = np.array([[5],[15],[-20]])\n",
        "\n",
        "print(X,\"\\n\")\n",
        "print(Y,\"\\n\")\n",
        "#Z = np.linalg.inv(X).dot(Y)\n",
        "determinant = np.linalg.det(X)\n",
        "print(\"The determinant is: \", determinant)\n",
        "print(\"The problem can not be solved due to it being a singular matrix or a matrix wherin the determinant is zero\")"
      ],
      "metadata": {
        "colab": {
          "base_uri": "https://localhost:8080/"
        },
        "id": "KPKX_DnLHCR9",
        "outputId": "8a55fd7d-a029-4610-d2b4-44fb71305260"
      },
      "execution_count": 63,
      "outputs": [
        {
          "output_type": "stream",
          "name": "stdout",
          "text": [
            "[[  3  -1   1]\n",
            " [  9  -3   3]\n",
            " [-12   4  -4]] \n",
            "\n",
            "[[  5]\n",
            " [ 15]\n",
            " [-20]] \n",
            "\n",
            "The determinant is:  0.0\n",
            "The problem can not be solved due to it being a singular matrix or a matrix wherin the determinant is zero\n"
          ]
        }
      ]
    },
    {
      "cell_type": "markdown",
      "source": [
        "##*Problem 3. Consider the matrix,*\n",
        "###*Find the eigenvalue/s*\n",
        "###*Find the eigenvectors*"
      ],
      "metadata": {
        "id": "BxQ5uKGeHEMV"
      }
    },
    {
      "cell_type": "code",
      "source": [
        "E = np.array([[8,5,-6],[-12,-9,12],[-3,-3,5]])\n",
        "x,y = np.linalg.eig(E)\n",
        "\n",
        "print(\"\\nThe eigenvalues is/are \\n\", x)\n",
        "print(\"\\nThe eigenvectors is are \\n\", y)\n"
      ],
      "metadata": {
        "colab": {
          "base_uri": "https://localhost:8080/"
        },
        "id": "35BpI2O6HOIE",
        "outputId": "346eb16d-3812-47c6-85ab-91ffece93c0c"
      },
      "execution_count": 53,
      "outputs": [
        {
          "output_type": "stream",
          "name": "stdout",
          "text": [
            "\n",
            "The eigenvalues is/are \n",
            " [-1.  3.  2.]\n",
            "\n",
            "The eigenvectors is are \n",
            " [[ 3.01511345e-01 -7.07106781e-01  7.07106781e-01]\n",
            " [-9.04534034e-01  7.07106781e-01  1.53837015e-15]\n",
            " [-3.01511345e-01 -2.26120075e-15  7.07106781e-01]]\n"
          ]
        }
      ]
    }
  ]
}