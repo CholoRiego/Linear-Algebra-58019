{
  "nbformat": 4,
  "nbformat_minor": 0,
  "metadata": {
    "colab": {
      "name": "Midterm Exam.ipynb",
      "provenance": [],
      "authorship_tag": "ABX9TyNSnVHiGmiiwhwExY2cOMQe",
      "include_colab_link": true
    },
    "kernelspec": {
      "name": "python3",
      "display_name": "Python 3"
    },
    "language_info": {
      "name": "python"
    }
  },
  "cells": [
    {
      "cell_type": "markdown",
      "metadata": {
        "id": "view-in-github",
        "colab_type": "text"
      },
      "source": [
        "<a href=\"https://colab.research.google.com/github/CholoRiego/Linear-Algebra-58019/blob/main/Midterm_Exam.ipynb\" target=\"_parent\"><img src=\"https://colab.research.google.com/assets/colab-badge.svg\" alt=\"Open In Colab\"/></a>"
      ]
    },
    {
      "cell_type": "markdown",
      "metadata": {
        "id": "vB6H81MK3tI6"
      },
      "source": [
        "#Midterm Exam"
      ]
    },
    {
      "cell_type": "markdown",
      "metadata": {
        "id": "U9CihhWy32vM"
      },
      "source": [
        "##Question 1. Create a Python code that displays a square matrix whose length is 5 (10 points)"
      ]
    },
    {
      "cell_type": "code",
      "metadata": {
        "colab": {
          "base_uri": "https://localhost:8080/"
        },
        "id": "mBPK_Ule3cDH",
        "outputId": "4d5ba625-4449-4e76-94bf-a639fdd67680"
      },
      "source": [
        "import numpy as np\n",
        "a = np.array([[1,2,3,4,5],[6,7,8,9,10],[11,12,13,14,15],[16,17,18,19,20],[21,22,23,24,25]])\n",
        "print(a)"
      ],
      "execution_count": 9,
      "outputs": [
        {
          "output_type": "stream",
          "name": "stdout",
          "text": [
            "[[ 1  2  3  4  5]\n",
            " [ 6  7  8  9 10]\n",
            " [11 12 13 14 15]\n",
            " [16 17 18 19 20]\n",
            " [21 22 23 24 25]]\n"
          ]
        }
      ]
    },
    {
      "cell_type": "markdown",
      "metadata": {
        "id": "3nIRuVKg5Nog"
      },
      "source": [
        "##Question 2. Create a Python code that displays a square matrix whose elements below the principal diagonal are zero (10 points)"
      ]
    },
    {
      "cell_type": "code",
      "metadata": {
        "colab": {
          "base_uri": "https://localhost:8080/"
        },
        "id": "JURkmbAi5QsA",
        "outputId": "861c9dba-a34c-4512-9422-59a7abc2696c"
      },
      "source": [
        "import numpy as np\n",
        "B = np.array([[1,2,3,4],[5,6,7,8],[9,10,11,12],[13,14,15,16]])\n",
        "b = np.triu(B)\n",
        "print(B, \"\\n\\nWhen the elements below the principal diagonal is zero:\\n\")\n",
        "print(b)"
      ],
      "execution_count": 29,
      "outputs": [
        {
          "output_type": "stream",
          "name": "stdout",
          "text": [
            "[[ 1  2  3  4]\n",
            " [ 5  6  7  8]\n",
            " [ 9 10 11 12]\n",
            " [13 14 15 16]] \n",
            "\n",
            "When the elements below the principal diagonal is zero:\n",
            "\n",
            "[[ 1  2  3  4]\n",
            " [ 0  6  7  8]\n",
            " [ 0  0 11 12]\n",
            " [ 0  0  0 16]]\n"
          ]
        }
      ]
    },
    {
      "cell_type": "markdown",
      "metadata": {
        "id": "00SNlmQX8UyK"
      },
      "source": [
        "##Question 3. Create a Python code that displays a square matrix which is symmetrical (10 points)"
      ]
    },
    {
      "cell_type": "code",
      "metadata": {
        "colab": {
          "base_uri": "https://localhost:8080/"
        },
        "id": "SEq3YSyZ8YJH",
        "outputId": "3f07d70b-27fd-4663-c919-a9aac072f9c3"
      },
      "source": [
        "D = np.array([[1,2,3],[4,5,6],[7,8,9]])\n",
        "print(D,'\\n\\n',\"The symmetrical matrix is:\\n\")\n",
        "d = np.transpose(D)\n",
        "print(d)\n"
      ],
      "execution_count": 30,
      "outputs": [
        {
          "output_type": "stream",
          "name": "stdout",
          "text": [
            "[[1 2 3]\n",
            " [4 5 6]\n",
            " [7 8 9]] \n",
            "\n",
            " The symmetrical matrix is:\n",
            "\n",
            "[[1 4 7]\n",
            " [2 5 8]\n",
            " [3 6 9]]\n"
          ]
        }
      ]
    },
    {
      "cell_type": "markdown",
      "metadata": {
        "id": "GOPhl4cu8jWY"
      },
      "source": [
        "##Question 4. What is the inverse of matrix C? Show your solution by python coding. (20 points)"
      ]
    },
    {
      "cell_type": "code",
      "metadata": {
        "colab": {
          "base_uri": "https://localhost:8080/"
        },
        "id": "gKdSH74R8oCX",
        "outputId": "1235d167-0ae6-4b84-ee53-7a7830211869"
      },
      "source": [
        "C = np.array([[1,2,3],[2,3,3],[3,4,-2]])\n",
        "invC = np.linalg.inv(C)\n",
        "print(C, '\\n')\n",
        "print(invC)"
      ],
      "execution_count": 21,
      "outputs": [
        {
          "output_type": "stream",
          "name": "stdout",
          "text": [
            "[[ 1  2  3]\n",
            " [ 2  3  3]\n",
            " [ 3  4 -2]] \n",
            "\n",
            "[[-3.6  3.2 -0.6]\n",
            " [ 2.6 -2.2  0.6]\n",
            " [-0.2  0.4 -0.2]]\n"
          ]
        }
      ]
    },
    {
      "cell_type": "markdown",
      "metadata": {
        "id": "TWCAE-wc8oYY"
      },
      "source": [
        "##Question 5. What is the determinant of the given matrix in Question 4? Show your solution by python coding. (20 points)"
      ]
    },
    {
      "cell_type": "code",
      "metadata": {
        "colab": {
          "base_uri": "https://localhost:8080/"
        },
        "id": "-_u-Dx4A8r1S",
        "outputId": "fd97b44b-4f6b-4edd-cd7c-abb320b99dac"
      },
      "source": [
        "print(C)\n",
        "print(\"\\nThe determinant of Matrix C is:\\n\", round(np.linalg.det(C)))"
      ],
      "execution_count": 32,
      "outputs": [
        {
          "output_type": "stream",
          "name": "stdout",
          "text": [
            "[[ 1  2  3]\n",
            " [ 2  3  3]\n",
            " [ 3  4 -2]]\n",
            "\n",
            "The determinant of Matrix C is:\n",
            " 5\n"
          ]
        }
      ]
    },
    {
      "cell_type": "markdown",
      "metadata": {
        "id": "5HwPjeZz8sRL"
      },
      "source": [
        "##Question 6. Find the roots of the linear equations by showing its python codes (30 points)\n",
        "\n",
        "5X1 + 4X2 + X3 = 3.4\n",
        "\n",
        "10X1 + 9X2 + 4X3 = 8.8\n",
        "\n",
        "10X1 + 13X2 + 15X3 = 19.2"
      ]
    },
    {
      "cell_type": "code",
      "metadata": {
        "colab": {
          "base_uri": "https://localhost:8080/"
        },
        "id": "2BV-GYc78vKJ",
        "outputId": "ef28975e-5bed-438a-98ff-253a08d95a01"
      },
      "source": [
        "e = np.array([[5,4,1],[10,9,4],[10,13,15]])\n",
        "f = np.array([[3.4],[8.8],[19.2]])\n",
        "roots = np.linalg.inv(e).dot(f)\n",
        "print(e,\"\\n\\n\",f,\"\\n\\nThe roots are:\")\n",
        "print(roots)"
      ],
      "execution_count": 35,
      "outputs": [
        {
          "output_type": "stream",
          "name": "stdout",
          "text": [
            "[[ 5  4  1]\n",
            " [10  9  4]\n",
            " [10 13 15]] \n",
            "\n",
            " [[ 3.4]\n",
            " [ 8.8]\n",
            " [19.2]] \n",
            "\n",
            "The roots are:\n",
            "[[0.2]\n",
            " [0.4]\n",
            " [0.8]]\n"
          ]
        }
      ]
    }
  ]
}