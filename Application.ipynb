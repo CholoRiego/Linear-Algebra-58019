{
  "nbformat": 4,
  "nbformat_minor": 0,
  "metadata": {
    "colab": {
      "name": "Application.ipynb",
      "provenance": [],
      "authorship_tag": "ABX9TyPOszNI3Cx7Db1Y1PMwV4Mk",
      "include_colab_link": true
    },
    "kernelspec": {
      "name": "python3",
      "display_name": "Python 3"
    },
    "language_info": {
      "name": "python"
    }
  },
  "cells": [
    {
      "cell_type": "markdown",
      "metadata": {
        "id": "view-in-github",
        "colab_type": "text"
      },
      "source": [
        "<a href=\"https://colab.research.google.com/github/CholoRiego/Linear-Algebra-58019/blob/main/Application.ipynb\" target=\"_parent\"><img src=\"https://colab.research.google.com/assets/colab-badge.svg\" alt=\"Open In Colab\"/></a>"
      ]
    },
    {
      "cell_type": "markdown",
      "metadata": {
        "id": "OVrBYNw5GJsM"
      },
      "source": [
        "##The price of one apple and one orange"
      ]
    },
    {
      "cell_type": "code",
      "metadata": {
        "colab": {
          "base_uri": "https://localhost:8080/"
        },
        "id": "LAmdlixFGGho",
        "outputId": "4b7e90da-e7ce-4d38-db86-4bdb355a4236"
      },
      "source": [
        "import numpy as np\n",
        "from scipy.linalg import solve\n",
        "A = np.array([[20,10],[17,22]])\n",
        "B = np.array([[350],[500]])\n",
        "X = solve(A,B)\n",
        "print(A,\"\\n\")\n",
        "print(B,\"\\n\")\n",
        "print(X)"
      ],
      "execution_count": 7,
      "outputs": [
        {
          "output_type": "stream",
          "name": "stdout",
          "text": [
            "[[20 10]\n",
            " [17 22]] \n",
            "\n",
            "[[350]\n",
            " [500]] \n",
            "\n",
            "[[10.]\n",
            " [15.]]\n"
          ]
        }
      ]
    },
    {
      "cell_type": "code",
      "metadata": {
        "colab": {
          "base_uri": "https://localhost:8080/"
        },
        "id": "eYYBeeq-GvXH",
        "outputId": "6e4b2417-101b-481f-b6e2-87663457a83b"
      },
      "source": [
        "invA = np.linalg.inv(A)\n",
        "print(invA, \"\\n\")\n",
        "X = np.linalg.inv(A).dot(B)\n",
        "print(X)"
      ],
      "execution_count": 3,
      "outputs": [
        {
          "output_type": "stream",
          "name": "stdout",
          "text": [
            "[[ 0.08148148 -0.03703704]\n",
            " [-0.06296296  0.07407407]] \n",
            "\n",
            "[[10.]\n",
            " [15.]]\n"
          ]
        }
      ]
    },
    {
      "cell_type": "code",
      "metadata": {
        "colab": {
          "base_uri": "https://localhost:8080/"
        },
        "id": "jJfH4cMHIR12",
        "outputId": "c7203980-ec14-4a10-8e1e-c517f0e35bd8"
      },
      "source": [
        "X = np.dot(invA,B)\n",
        "print(X)"
      ],
      "execution_count": 5,
      "outputs": [
        {
          "output_type": "stream",
          "name": "stdout",
          "text": [
            "[[10.]\n",
            " [15.]]\n"
          ]
        }
      ]
    },
    {
      "cell_type": "markdown",
      "metadata": {
        "id": "drPRygScLCam"
      },
      "source": [
        "##Solving for three linear equations with unknown varaibles x, y, and z"
      ]
    },
    {
      "cell_type": "markdown",
      "metadata": {
        "id": "3gOXlkiMLUKk"
      },
      "source": [
        "###4x+3y+2z=25\n",
        "###-2x+2y+3z=-10\n",
        "###3x-5y+2z=-4"
      ]
    },
    {
      "cell_type": "code",
      "metadata": {
        "colab": {
          "base_uri": "https://localhost:8080/"
        },
        "id": "NTUs2sywLB0m",
        "outputId": "c798e828-6abe-4a15-f110-7f4a86f550b9"
      },
      "source": [
        "a = np.array([[4,3,2],[-2,2,3],[3,-5,2]])\n",
        "print(a,\"\\n\")\n",
        "b = np.array([[25],[-10],[-4]])\n",
        "print(b,\"\\n\")\n",
        "x = solve(a,b)\n",
        "print(x)"
      ],
      "execution_count": 9,
      "outputs": [
        {
          "output_type": "stream",
          "name": "stdout",
          "text": [
            "[[ 4  3  2]\n",
            " [-2  2  3]\n",
            " [ 3 -5  2]] \n",
            "\n",
            "[[ 25]\n",
            " [-10]\n",
            " [ -4]] \n",
            "\n",
            "[[ 5.]\n",
            " [ 3.]\n",
            " [-2.]]\n"
          ]
        }
      ]
    }
  ]
}