{
  "nbformat": 4,
  "nbformat_minor": 0,
  "metadata": {
    "colab": {
      "name": "Matrix Algebra.ipynb",
      "provenance": [],
      "authorship_tag": "ABX9TyPP1N6NMR5S26Pws7ysjZk1",
      "include_colab_link": true
    },
    "kernelspec": {
      "name": "python3",
      "display_name": "Python 3"
    },
    "language_info": {
      "name": "python"
    }
  },
  "cells": [
    {
      "cell_type": "markdown",
      "metadata": {
        "id": "view-in-github",
        "colab_type": "text"
      },
      "source": [
        "<a href=\"https://colab.research.google.com/github/CholoRiego/Linear-Algebra-58019/blob/main/Matrix_Algebra.ipynb\" target=\"_parent\"><img src=\"https://colab.research.google.com/assets/colab-badge.svg\" alt=\"Open In Colab\"/></a>"
      ]
    },
    {
      "cell_type": "markdown",
      "metadata": {
        "id": "6M_9F6c_4Qey"
      },
      "source": [
        "##Python Program to Inverse"
      ]
    },
    {
      "cell_type": "code",
      "metadata": {
        "colab": {
          "base_uri": "https://localhost:8080/"
        },
        "id": "hNRkaXTmwwFq",
        "outputId": "0e6ce96c-4785-4560-8ea4-92f5810185b0"
      },
      "source": [
        "import numpy as np\n",
        "A = np.array([[1,2],[4,7]])\n",
        "invA = np.linalg.inv(A)\n",
        "print(invA)\n"
      ],
      "execution_count": 12,
      "outputs": [
        {
          "output_type": "stream",
          "name": "stdout",
          "text": [
            "[[-7.  2.]\n",
            " [ 4. -1.]]\n"
          ]
        }
      ]
    },
    {
      "cell_type": "code",
      "metadata": {
        "colab": {
          "base_uri": "https://localhost:8080/"
        },
        "id": "SShSOmZo36dy",
        "outputId": "37f07fb9-e463-48d8-dc63-6fccce698755"
      },
      "source": [
        "C=np.dot(A,invA)\n",
        "print(C)"
      ],
      "execution_count": 14,
      "outputs": [
        {
          "output_type": "stream",
          "name": "stdout",
          "text": [
            "[[1. 0.]\n",
            " [0. 1.]]\n"
          ]
        }
      ]
    },
    {
      "cell_type": "markdown",
      "metadata": {
        "id": "MpsKeNMP4jl5"
      },
      "source": [
        "##Python Program to Transpose with 3x3 Matrix"
      ]
    },
    {
      "cell_type": "code",
      "metadata": {
        "colab": {
          "base_uri": "https://localhost:8080/"
        },
        "id": "l9hWrLro4qs-",
        "outputId": "ff64126d-9400-468c-c1f7-3fc3fa07bbb2"
      },
      "source": [
        "a = np.array([[6,1,1],[4,-2,5],[2,8,7]])\n",
        "b = np.transpose(a)\n",
        "print(a, \"\\n\\n\")\n",
        "print(b)"
      ],
      "execution_count": 18,
      "outputs": [
        {
          "output_type": "stream",
          "name": "stdout",
          "text": [
            "[[ 6  1  1]\n",
            " [ 4 -2  5]\n",
            " [ 2  8  7]] \n",
            "\n",
            "\n",
            "[[ 6  4  2]\n",
            " [ 1 -2  8]\n",
            " [ 1  5  7]]\n"
          ]
        }
      ]
    },
    {
      "cell_type": "markdown",
      "metadata": {
        "id": "wI_0LJWL9hKq"
      },
      "source": [
        ""
      ]
    },
    {
      "cell_type": "code",
      "metadata": {
        "colab": {
          "base_uri": "https://localhost:8080/"
        },
        "id": "Q7Y6slDu7_Ec",
        "outputId": "b1fad792-aa2f-4e02-ffa8-612622678a9e"
      },
      "source": [
        "C  = np.array([[6,1,1],[4,-2,5],[2,8,7]])\n",
        "c = np.linalg.inv(C)\n",
        "dotprodCc = np.dot(C,c)\n",
        "print(dotprodCc)"
      ],
      "execution_count": 21,
      "outputs": [
        {
          "output_type": "stream",
          "name": "stdout",
          "text": [
            "[[ 1.00000000e+00  0.00000000e+00  2.77555756e-17]\n",
            " [-1.38777878e-17  1.00000000e+00  1.38777878e-17]\n",
            " [-4.16333634e-17  1.38777878e-16  1.00000000e+00]]\n"
          ]
        }
      ]
    },
    {
      "cell_type": "markdown",
      "metadata": {
        "id": "6Ir4r9Pv-v7x"
      },
      "source": [
        "#CODING  ACTIVITY #3"
      ]
    },
    {
      "cell_type": "code",
      "metadata": {
        "colab": {
          "base_uri": "https://localhost:8080/"
        },
        "id": "Xgm5uW7o-1VQ",
        "outputId": "53102123-9776-44d4-bb00-d96770f38b4e"
      },
      "source": [
        "A = ( [[6,1,1,3],[4,-2,5,1],[2,8,7,6],[3,1,9,7]] )\n",
        "print(A)"
      ],
      "execution_count": 23,
      "outputs": [
        {
          "output_type": "stream",
          "name": "stdout",
          "text": [
            "[[6, 1, 1, 3], [4, -2, 5, 1], [2, 8, 7, 6], [3, 1, 9, 7]]\n"
          ]
        }
      ]
    },
    {
      "cell_type": "markdown",
      "metadata": {
        "id": "ht0BroceAL4g"
      },
      "source": [
        "###Inverse of A"
      ]
    },
    {
      "cell_type": "code",
      "metadata": {
        "colab": {
          "base_uri": "https://localhost:8080/"
        },
        "id": "ED4KoDfqAPxP",
        "outputId": "31c81de2-8f8e-4f2b-c0ff-cce570c49f72"
      },
      "source": [
        "invA = np.linalg.inv(A)\n",
        "print(invA)"
      ],
      "execution_count": 24,
      "outputs": [
        {
          "output_type": "stream",
          "name": "stdout",
          "text": [
            "[[ 0.13368984  0.10695187  0.02139037 -0.09090909]\n",
            " [-0.00229183  0.02673797  0.14820474 -0.12987013]\n",
            " [-0.12987013  0.18181818  0.06493506 -0.02597403]\n",
            " [ 0.11000764 -0.28342246 -0.11382735  0.23376623]]\n"
          ]
        }
      ]
    },
    {
      "cell_type": "markdown",
      "metadata": {
        "id": "udYeZpypAj9z"
      },
      "source": [
        "###Transpose of A\n"
      ]
    },
    {
      "cell_type": "code",
      "metadata": {
        "colab": {
          "base_uri": "https://localhost:8080/"
        },
        "id": "Zf31Q6AZA0Fi",
        "outputId": "e396b8ec-7111-4da3-c967-007c574683a0"
      },
      "source": [
        "TranspA = np.transpose(A)\n",
        "print(TranspA)"
      ],
      "execution_count": 25,
      "outputs": [
        {
          "output_type": "stream",
          "name": "stdout",
          "text": [
            "[[ 6  4  2  3]\n",
            " [ 1 -2  8  1]\n",
            " [ 1  5  7  9]\n",
            " [ 3  1  6  7]]\n"
          ]
        }
      ]
    },
    {
      "cell_type": "markdown",
      "metadata": {
        "id": "kft8CTNMA24n"
      },
      "source": [
        "###Inverse-Transpose of A"
      ]
    },
    {
      "cell_type": "code",
      "metadata": {
        "colab": {
          "base_uri": "https://localhost:8080/"
        },
        "id": "DaIND40vA8Y3",
        "outputId": "ce1fc32f-12bc-4463-fbc7-cda78bc07a26"
      },
      "source": [
        "invtranspA = np.transpose(invA)\n",
        "print(invtranspA)"
      ],
      "execution_count": 26,
      "outputs": [
        {
          "output_type": "stream",
          "name": "stdout",
          "text": [
            "[[ 0.13368984 -0.00229183 -0.12987013  0.11000764]\n",
            " [ 0.10695187  0.02673797  0.18181818 -0.28342246]\n",
            " [ 0.02139037  0.14820474  0.06493506 -0.11382735]\n",
            " [-0.09090909 -0.12987013 -0.02597403  0.23376623]]\n"
          ]
        }
      ]
    }
  ]
}