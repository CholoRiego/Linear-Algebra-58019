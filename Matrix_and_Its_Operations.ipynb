{
  "nbformat": 4,
  "nbformat_minor": 0,
  "metadata": {
    "colab": {
      "name": "Matrix and Its Operations.ipynb",
      "provenance": [],
      "authorship_tag": "ABX9TyPhVTXwTMLYaJlr/ZJWsbfH",
      "include_colab_link": true
    },
    "kernelspec": {
      "name": "python3",
      "display_name": "Python 3"
    },
    "language_info": {
      "name": "python"
    }
  },
  "cells": [
    {
      "cell_type": "markdown",
      "metadata": {
        "id": "view-in-github",
        "colab_type": "text"
      },
      "source": [
        "<a href=\"https://colab.research.google.com/github/CholoRiego/Linear-Algebra-58019/blob/main/Matrix_and_Its_Operations.ipynb\" target=\"_parent\"><img src=\"https://colab.research.google.com/assets/colab-badge.svg\" alt=\"Open In Colab\"/></a>"
      ]
    },
    {
      "cell_type": "markdown",
      "metadata": {
        "id": "ng6LNnEA8qVq"
      },
      "source": [
        "#**Activity 1 - Matrix and Its Operations**"
      ]
    },
    {
      "cell_type": "code",
      "metadata": {
        "colab": {
          "base_uri": "https://localhost:8080/"
        },
        "id": "Ylolbe-C79aN",
        "outputId": "3f8fcd42-6671-48d9-87ab-d4c57a181db6"
      },
      "source": [
        "import numpy as np\n",
        "A = np.array([[-5,0],[4,1]])\n",
        "B = np.array([[6,-3],[2,3]])\n",
        "sum = A+B\n",
        "print(sum)    #Summation of Matrices A and B\n",
        "\n",
        "print(\" \") #Line Break\n",
        "\n",
        "difference1 = B-A\n",
        "print(difference1)   #Difference of B to A\n",
        "\n",
        "print(\" \")  #Line Break\n",
        "\n",
        "difference2 = A-B\n",
        "print(difference2)   #Difference of A to B"
      ],
      "execution_count": 14,
      "outputs": [
        {
          "output_type": "stream",
          "name": "stdout",
          "text": [
            "[[ 1 -3]\n",
            " [ 6  4]]\n",
            " \n",
            "[[11 -3]\n",
            " [-2  2]]\n",
            " \n",
            "[[-11   3]\n",
            " [  2  -2]]\n"
          ]
        }
      ]
    }
  ]
}