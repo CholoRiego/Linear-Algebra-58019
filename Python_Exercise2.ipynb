{
  "nbformat": 4,
  "nbformat_minor": 0,
  "metadata": {
    "colab": {
      "name": "Python Exercise2.ipynb",
      "provenance": [],
      "authorship_tag": "ABX9TyOhG7vWq+mFkmclhGMWKK3y",
      "include_colab_link": true
    },
    "kernelspec": {
      "name": "python3",
      "display_name": "Python 3"
    },
    "language_info": {
      "name": "python"
    }
  },
  "cells": [
    {
      "cell_type": "markdown",
      "metadata": {
        "id": "view-in-github",
        "colab_type": "text"
      },
      "source": [
        "<a href=\"https://colab.research.google.com/github/CholoRiego/Linear-Algebra-58019/blob/main/Python_Exercise2.ipynb\" target=\"_parent\"><img src=\"https://colab.research.google.com/assets/colab-badge.svg\" alt=\"Open In Colab\"/></a>"
      ]
    },
    {
      "cell_type": "markdown",
      "metadata": {
        "id": "tE1AC5V2nqUB"
      },
      "source": [
        "#**Python Exercise 2**"
      ]
    },
    {
      "cell_type": "markdown",
      "metadata": {
        "id": "F8in_k7nnvE1"
      },
      "source": [
        "##Representing Vectors"
      ]
    },
    {
      "cell_type": "code",
      "metadata": {
        "colab": {
          "base_uri": "https://localhost:8080/"
        },
        "id": "xGcLwJPYj7Va",
        "outputId": "a881a6a9-e9d5-4d49-a15c-dd42d94cb074"
      },
      "source": [
        "import numpy as np\n",
        "A = np.array([4,3])\n",
        "B = np.array([2,-5])\n",
        "\n",
        "print(\"Vector A: \" , A)\n",
        "print(\"Vector B: \" , B)"
      ],
      "execution_count": 6,
      "outputs": [
        {
          "output_type": "stream",
          "name": "stdout",
          "text": [
            "Vector A:  [4 3]\n",
            "Vector B:  [ 2 -5]\n"
          ]
        }
      ]
    },
    {
      "cell_type": "markdown",
      "metadata": {
        "id": "IQIzGIPAo069"
      },
      "source": [
        "##Describing Vectors on Numpy"
      ]
    },
    {
      "cell_type": "code",
      "metadata": {
        "colab": {
          "base_uri": "https://localhost:8080/"
        },
        "id": "pEQxl9j-o6M1",
        "outputId": "dafbdc04-69b2-43b5-f564-1b68f312a6b5"
      },
      "source": [
        "import numpy as np\n",
        "\n",
        "Ball1 = np.array([1,2,3])\n",
        "Ball2 = np.array([-1,0,1])\n",
        "pool = np.array([Ball1,Ball2])\n",
        "pool.shape #(rows,columns)\n",
        "pool.ndim #Dimension"
      ],
      "execution_count": 13,
      "outputs": [
        {
          "output_type": "execute_result",
          "data": {
            "text/plain": [
              "2"
            ]
          },
          "metadata": {},
          "execution_count": 13
        }
      ]
    },
    {
      "cell_type": "code",
      "metadata": {
        "colab": {
          "base_uri": "https://localhost:8080/"
        },
        "id": "mhDOEBY_q0dU",
        "outputId": "ed8418d6-2112-4241-d541-782e07ccf087"
      },
      "source": [
        "w = np.array([[4,5,6],[7,8,9]])\n",
        "w.size #Number of components inside matrix"
      ],
      "execution_count": 17,
      "outputs": [
        {
          "output_type": "execute_result",
          "data": {
            "text/plain": [
              "6"
            ]
          },
          "metadata": {},
          "execution_count": 17
        }
      ]
    },
    {
      "cell_type": "markdown",
      "metadata": {
        "id": "nmhvoz1ItrB6"
      },
      "source": [
        "##Addition of Vectors"
      ]
    },
    {
      "cell_type": "markdown",
      "metadata": {
        "id": "Bkz56cdqu-R6"
      },
      "source": [
        "###Simple addition"
      ]
    },
    {
      "cell_type": "code",
      "metadata": {
        "colab": {
          "base_uri": "https://localhost:8080/"
        },
        "id": "sKKPeNL3rzLs",
        "outputId": "73fc8c67-59ff-4a63-9ff4-c799d7b34649"
      },
      "source": [
        "add1 = np.array([0,0,2])\n",
        "add2 = np.array([1,2,3])\n",
        "sum = add1+add2\n",
        "sum\n"
      ],
      "execution_count": 21,
      "outputs": [
        {
          "output_type": "execute_result",
          "data": {
            "text/plain": [
              "array([1, 2, 5])"
            ]
          },
          "metadata": {},
          "execution_count": 21
        }
      ]
    },
    {
      "cell_type": "markdown",
      "metadata": {
        "id": "9dwYVqRlvB-l"
      },
      "source": [
        "###Usage of np.add"
      ]
    },
    {
      "cell_type": "code",
      "metadata": {
        "colab": {
          "base_uri": "https://localhost:8080/"
        },
        "id": "0dcYbXf4uEkW",
        "outputId": "2165027d-6036-44e6-db73-65ef650975e1"
      },
      "source": [
        "add1 = np.array([0,0,2])\n",
        "add2 = np.array([1,2,3])\n",
        "result = np.add(add1,add2)\n",
        "result"
      ],
      "execution_count": 24,
      "outputs": [
        {
          "output_type": "execute_result",
          "data": {
            "text/plain": [
              "array([1, 2, 5])"
            ]
          },
          "metadata": {},
          "execution_count": 24
        }
      ]
    },
    {
      "cell_type": "markdown",
      "metadata": {
        "id": "1j4OrOIvvHqy"
      },
      "source": [
        "##Subtrating Vectors"
      ]
    },
    {
      "cell_type": "markdown",
      "metadata": {
        "id": "-fkV-nSVvwTl"
      },
      "source": [
        "###Simple Difference"
      ]
    },
    {
      "cell_type": "code",
      "metadata": {
        "colab": {
          "base_uri": "https://localhost:8080/"
        },
        "id": "9eCse8aPvKmK",
        "outputId": "42ba9091-c0e1-461c-9185-06579fe338bd"
      },
      "source": [
        "diff = add1-add2\n",
        "diff"
      ],
      "execution_count": 25,
      "outputs": [
        {
          "output_type": "execute_result",
          "data": {
            "text/plain": [
              "array([-1, -2, -1])"
            ]
          },
          "metadata": {},
          "execution_count": 25
        }
      ]
    },
    {
      "cell_type": "markdown",
      "metadata": {
        "id": "cF72Uc7jwF7T"
      },
      "source": [
        "###Usage of np.subtract"
      ]
    },
    {
      "cell_type": "code",
      "metadata": {
        "colab": {
          "base_uri": "https://localhost:8080/"
        },
        "id": "X_lKppXUv1Sq",
        "outputId": "d15b60c3-833f-419d-c7fa-c0bf23223bd1"
      },
      "source": [
        "difference = np.subtract(add1,add2)\n",
        "difference"
      ],
      "execution_count": 27,
      "outputs": [
        {
          "output_type": "execute_result",
          "data": {
            "text/plain": [
              "array([-1, -2, -1])"
            ]
          },
          "metadata": {},
          "execution_count": 27
        }
      ]
    },
    {
      "cell_type": "markdown",
      "metadata": {
        "id": "r9dccu6dwgrS"
      },
      "source": [
        "##Scaling"
      ]
    },
    {
      "cell_type": "code",
      "metadata": {
        "colab": {
          "base_uri": "https://localhost:8080/"
        },
        "id": "BUGhQMgRwimr",
        "outputId": "65cfb2b5-3d30-4721-9156-368e6e069792"
      },
      "source": [
        "A = np.array([1,3,5,7,9])\n",
        "s = 5*A\n",
        "s"
      ],
      "execution_count": 28,
      "outputs": [
        {
          "output_type": "execute_result",
          "data": {
            "text/plain": [
              "array([ 5, 15, 25, 35, 45])"
            ]
          },
          "metadata": {},
          "execution_count": 28
        }
      ]
    },
    {
      "cell_type": "markdown",
      "metadata": {
        "id": "hKPB1C1axqGj"
      },
      "source": [
        "##Cross Product"
      ]
    },
    {
      "cell_type": "code",
      "metadata": {
        "colab": {
          "base_uri": "https://localhost:8080/"
        },
        "id": "ooIADTEMxtWS",
        "outputId": "2395df97-be7a-43ec-a7a5-382f0e6b91ce"
      },
      "source": [
        "a = np.array([2,3,4])\n",
        "b = np.array([1,7,1])\n",
        "\n",
        "output = np.cross(a,b) #(2x7)-(1x3) \"\\-/\"\"\n",
        "output"
      ],
      "execution_count": 34,
      "outputs": [
        {
          "output_type": "execute_result",
          "data": {
            "text/plain": [
              "array([-25,   2,  11])"
            ]
          },
          "metadata": {},
          "execution_count": 34
        }
      ]
    },
    {
      "cell_type": "markdown",
      "metadata": {
        "id": "LzSygiDm0y2z"
      },
      "source": [
        "##Dot Product"
      ]
    },
    {
      "cell_type": "code",
      "metadata": {
        "colab": {
          "base_uri": "https://localhost:8080/"
        },
        "id": "WT2J0GsI0pc8",
        "outputId": "8aeb8fe1-8f7e-4f53-e81f-6e369974f534"
      },
      "source": [
        "c = np.array([2,3])\n",
        "d = np.array([1,7])\n",
        "\n",
        "outcome = np.dot(c,d)\n",
        "outcome"
      ],
      "execution_count": 36,
      "outputs": [
        {
          "output_type": "execute_result",
          "data": {
            "text/plain": [
              "23"
            ]
          },
          "metadata": {},
          "execution_count": 36
        }
      ]
    }
  ]
}