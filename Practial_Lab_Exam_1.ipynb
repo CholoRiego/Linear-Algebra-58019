{
  "nbformat": 4,
  "nbformat_minor": 0,
  "metadata": {
    "colab": {
      "name": "Practial Lab Exam 1.ipynb",
      "provenance": [],
      "authorship_tag": "ABX9TyOclzuEGQHZWYiItAAp6EIq",
      "include_colab_link": true
    },
    "kernelspec": {
      "name": "python3",
      "display_name": "Python 3"
    },
    "language_info": {
      "name": "python"
    }
  },
  "cells": [
    {
      "cell_type": "markdown",
      "metadata": {
        "id": "view-in-github",
        "colab_type": "text"
      },
      "source": [
        "<a href=\"https://colab.research.google.com/github/CholoRiego/Linear-Algebra-58019/blob/main/Practial_Lab_Exam_1.ipynb\" target=\"_parent\"><img src=\"https://colab.research.google.com/assets/colab-badge.svg\" alt=\"Open In Colab\"/></a>"
      ]
    },
    {
      "cell_type": "markdown",
      "metadata": {
        "id": "3HB69Y2on4Fq"
      },
      "source": [
        "#**Practical Lab Exam 1**"
      ]
    },
    {
      "cell_type": "markdown",
      "metadata": {
        "id": "9SoAsY7Woa-r"
      },
      "source": [
        "##Problem 1"
      ]
    },
    {
      "cell_type": "code",
      "metadata": {
        "colab": {
          "base_uri": "https://localhost:8080/"
        },
        "id": "nmOmnbMNl3vp",
        "outputId": "da524500-3d72-4b8d-cab9-e3f93820edef"
      },
      "source": [
        "import numpy as np\n",
        "A = np.array([[1,2,3],[4,5,6]])\n",
        "B = np.array([[1,2],[3,4],[5,6]])\n",
        "C = np.array([[1,2,3],[4,5,6],[7,8,9]])\n",
        "D = np.array([[1,2],[3,4]])\n",
        "print(\"A \\n\",A,\"\\n\")\n",
        "print(\"B \\n\",B,\"\\n\")\n",
        "print(\"C \\n\",C,\"\\n\")\n",
        "print(\"D \\n\",D,\"\\n\")"
      ],
      "execution_count": 15,
      "outputs": [
        {
          "output_type": "stream",
          "name": "stdout",
          "text": [
            "A \n",
            " [[1 2 3]\n",
            " [4 5 6]] \n",
            "\n",
            "B \n",
            " [[1 2]\n",
            " [3 4]\n",
            " [5 6]] \n",
            "\n",
            "C \n",
            " [[1 2 3]\n",
            " [4 5 6]\n",
            " [7 8 9]] \n",
            "\n",
            "D \n",
            " [[1 2]\n",
            " [3 4]] \n",
            "\n"
          ]
        }
      ]
    },
    {
      "cell_type": "markdown",
      "metadata": {
        "id": "nvMYI5RUqgYA"
      },
      "source": [
        "###a.AB"
      ]
    },
    {
      "cell_type": "code",
      "metadata": {
        "colab": {
          "base_uri": "https://localhost:8080/"
        },
        "id": "o9aLq5uMrF43",
        "outputId": "d9da4895-fc68-4531-c71c-2701a86ded72"
      },
      "source": [
        "dot_prod = np.dot(A,B)\n",
        "print(dot_prod)"
      ],
      "execution_count": 46,
      "outputs": [
        {
          "output_type": "stream",
          "name": "stdout",
          "text": [
            "[[22 28]\n",
            " [49 64]]\n"
          ]
        }
      ]
    },
    {
      "cell_type": "markdown",
      "metadata": {
        "id": "wChEte_9tF2G"
      },
      "source": [
        "###b.D + D"
      ]
    },
    {
      "cell_type": "code",
      "metadata": {
        "colab": {
          "base_uri": "https://localhost:8080/"
        },
        "id": "42DfcuoTtLtW",
        "outputId": "f1743481-6463-4256-ad31-b2707329cbd9"
      },
      "source": [
        "sum = np.add(D,D)\n",
        "print(sum)"
      ],
      "execution_count": 24,
      "outputs": [
        {
          "output_type": "stream",
          "name": "stdout",
          "text": [
            "[[2 4]\n",
            " [6 8]]\n"
          ]
        }
      ]
    },
    {
      "cell_type": "markdown",
      "metadata": {
        "id": "gG5iUdlZtTbF"
      },
      "source": [
        "###c.2C"
      ]
    },
    {
      "cell_type": "code",
      "metadata": {
        "colab": {
          "base_uri": "https://localhost:8080/"
        },
        "id": "bqnddrMNtetN",
        "outputId": "432ffed7-23ed-4c54-d279-7c070363ee0e"
      },
      "source": [
        "Times2 = 2*C\n",
        "print(Times2)"
      ],
      "execution_count": 21,
      "outputs": [
        {
          "output_type": "stream",
          "name": "stdout",
          "text": [
            "[[ 2  4  6]\n",
            " [ 8 10 12]\n",
            " [14 16 18]]\n"
          ]
        }
      ]
    },
    {
      "cell_type": "markdown",
      "metadata": {
        "id": "itEOEwGmtqWW"
      },
      "source": [
        "#**Problem 2**"
      ]
    },
    {
      "cell_type": "markdown",
      "metadata": {
        "id": "dtkrZgz5twy3"
      },
      "source": [
        "##Given the linear combination below, try to create a corresponding matrix representing it and display its type, shape, and its dimension.\n",
        "\n",
        "Θ = 5x + 3y - z"
      ]
    },
    {
      "cell_type": "markdown",
      "metadata": {
        "id": "AtoufD0HySLq"
      },
      "source": [
        "###Matrix"
      ]
    },
    {
      "cell_type": "code",
      "metadata": {
        "colab": {
          "base_uri": "https://localhost:8080/"
        },
        "id": "DTH5S9fet6zF",
        "outputId": "931f4c59-6ffe-415f-a790-f9ca21eba6ac"
      },
      "source": [
        "import numpy as np\n",
        "xyz = np.array([[5],[3],[1]])\n",
        "\n",
        "print(xyz)"
      ],
      "execution_count": 29,
      "outputs": [
        {
          "output_type": "stream",
          "name": "stdout",
          "text": [
            "[[5]\n",
            " [3]\n",
            " [1]]\n"
          ]
        }
      ]
    },
    {
      "cell_type": "markdown",
      "metadata": {
        "id": "Mn3xrn6tyJFF"
      },
      "source": [
        "###Shape"
      ]
    },
    {
      "cell_type": "code",
      "metadata": {
        "colab": {
          "base_uri": "https://localhost:8080/"
        },
        "id": "i65pAoF7xCK0",
        "outputId": "4c1e8223-fb63-4374-d15e-0bb1ef5a0041"
      },
      "source": [
        "xyz.shape"
      ],
      "execution_count": 35,
      "outputs": [
        {
          "output_type": "execute_result",
          "data": {
            "text/plain": [
              "(3, 1)"
            ]
          },
          "metadata": {},
          "execution_count": 35
        }
      ]
    },
    {
      "cell_type": "markdown",
      "metadata": {
        "id": "DR6BSnJ2yMRi"
      },
      "source": [
        "###Dimension"
      ]
    },
    {
      "cell_type": "code",
      "metadata": {
        "colab": {
          "base_uri": "https://localhost:8080/"
        },
        "id": "HiKqWO6cxmiT",
        "outputId": "acb29798-806e-44da-e217-c59a6e5fbaac"
      },
      "source": [
        "xyz.ndim"
      ],
      "execution_count": 31,
      "outputs": [
        {
          "output_type": "execute_result",
          "data": {
            "text/plain": [
              "2"
            ]
          },
          "metadata": {},
          "execution_count": 31
        }
      ]
    },
    {
      "cell_type": "markdown",
      "metadata": {
        "id": "HdLGaVUayOVS"
      },
      "source": [
        "###Type"
      ]
    },
    {
      "cell_type": "code",
      "metadata": {
        "colab": {
          "base_uri": "https://localhost:8080/"
        },
        "id": "uo11lLMxxvhb",
        "outputId": "1225bc83-6bca-4b74-dcf0-9d2fccef4ef8"
      },
      "source": [
        "print(type(xyz))\n"
      ],
      "execution_count": 44,
      "outputs": [
        {
          "output_type": "stream",
          "name": "stdout",
          "text": [
            "<class 'numpy.ndarray'>\n"
          ]
        }
      ]
    }
  ]
}